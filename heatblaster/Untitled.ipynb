{
 "cells": [
  {
   "cell_type": "code",
   "execution_count": 2,
   "id": "3369ece0",
   "metadata": {},
   "outputs": [],
   "source": [
    "import numpy as np\n",
    "\n",
    "class DecisionStump:\n",
    "    def __init__(self , feature_idx : int = None , threshold :any = None , polarity : int = 1 , amount_to_say : int = None) -> None:\n",
    "        self.feature_idx = feature_idx\n",
    "        self.threshold = threshold\n",
    "        self.polarity = polarity\n",
    "        self.amount_to_say = amount_to_say\n",
    "\n",
    "    def predict(self , X : np.ndarray):\n",
    "        X_c = X[: , self.feature_idx]\n",
    "        n_sample = X.shape[0]\n",
    "        y_pred = np.ones(n_sample)\n",
    "\n",
    "        if self.polarity == 1:\n",
    "            y_pred[X_c < self.threshold] = -1\n",
    "        else :\n",
    "            y_pred[X_c > self.threshold] = -1\n",
    "        \n",
    "        return y_pred\n",
    "\n",
    "            \n",
    "class Adaboost:\n",
    "    \n",
    "    def __init__(self , n_classifiers : int = 5,verbose : bool = False ) -> None:\n",
    "        self.n_classifiers = n_classifiers\n",
    "        self.verbose = verbose\n",
    "        self.classifiers = []\n",
    "\n",
    "    def fit(self , X : np.ndarray , y : np.ndarray ):\n",
    "        n_samples , n_features = X.shape\n",
    "        self.X = X\n",
    "        # initialise the error weights of each sample to 1/n_samples\n",
    "        w = np.full(n_samples , (1/n_samples))\n",
    "\n",
    "        for _ in range(self.n_classifiers):\n",
    "\n",
    "            min_error = float('inf')\n",
    "            stump = DecisionStump()\n",
    "\n",
    "            for feature_idx in range(n_features):\n",
    "                X_c = self.X[: , feature_idx]\n",
    "                unique_features = np.unique(X_c)\n",
    "            \n",
    "                for threshold in unique_features:\n",
    "                    p = 1\n",
    "\n",
    "                    predictions = np.ones(n_samples)\n",
    "                    predictions[X_c < threshold] = -1\n",
    "                    total_error   = sum(w[predictions != y])\n",
    "\n",
    "                    # # if total error is greater than 0.5 reverse the polarity the left classified becomes 1\n",
    "                    if total_error > 0.5:\n",
    "                        p = -1   \n",
    "                        total_error = 1 - total_error\n",
    "\n",
    "                    if total_error < min_error:\n",
    "                        min_error = total_error\n",
    "                        stump.feature_idx = feature_idx\n",
    "                        stump.threshold = threshold\n",
    "                        stump.polarity = p\n",
    "\n",
    "            # change the error for the next stump to get more accurate on the sample which is currently wrongly classified\n",
    "            \n",
    "            EPS = 1e-15           # to avoid underflow\n",
    "            stump.amount_to_say = 0.5 * np.log((1-total_error + EPS)/(total_error+EPS))\n",
    "            y_pred = stump.predict(X)       \n",
    "\n",
    "            w = w*np.exp(-stump.amount_to_say*y*y_pred)\n",
    "            # to normalise between 0 to 1 of sample error weights\n",
    "            w = w/np.sum(w)\n",
    "\n",
    "            self.classifiers.append(stump)\n",
    "\n",
    "    def predict(self , X):\n",
    "        stumps_pred = [stump.amount_to_say * stump.predict(X) for stump in self.classifiers]\n",
    "        y_pred = np.sum(stumps_pred , axis=0)\n",
    "        y_pred = np.sign(y_pred)\n",
    "        return y_pred\n",
    "\n",
    "def accuracy(y_true : np.ndarray , y_pred : np.ndarray):\n",
    "    acc = np.sum(y_true == y_pred)/y_pred.shape[0]\n",
    "    return acc"
   ]
  },
  {
   "cell_type": "code",
   "execution_count": 29,
   "id": "f3995924",
   "metadata": {},
   "outputs": [
    {
     "name": "stdout",
     "output_type": "stream",
     "text": [
      "       mean radius  mean texture  mean perimeter    mean area  \\\n",
      "count   569.000000    569.000000      569.000000   569.000000   \n",
      "mean     14.127292     19.289649       91.969033   654.889104   \n",
      "std       3.524049      4.301036       24.298981   351.914129   \n",
      "min       6.981000      9.710000       43.790000   143.500000   \n",
      "25%      11.700000     16.170000       75.170000   420.300000   \n",
      "50%      13.370000     18.840000       86.240000   551.100000   \n",
      "75%      15.780000     21.800000      104.100000   782.700000   \n",
      "max      28.110000     39.280000      188.500000  2501.000000   \n",
      "\n",
      "       mean smoothness  mean compactness  mean concavity  mean concave points  \\\n",
      "count       569.000000        569.000000      569.000000           569.000000   \n",
      "mean          0.096360          0.104341        0.088799             0.048919   \n",
      "std           0.014064          0.052813        0.079720             0.038803   \n",
      "min           0.052630          0.019380        0.000000             0.000000   \n",
      "25%           0.086370          0.064920        0.029560             0.020310   \n",
      "50%           0.095870          0.092630        0.061540             0.033500   \n",
      "75%           0.105300          0.130400        0.130700             0.074000   \n",
      "max           0.163400          0.345400        0.426800             0.201200   \n",
      "\n",
      "       mean symmetry  mean fractal dimension  ...  worst radius  \\\n",
      "count     569.000000              569.000000  ...    569.000000   \n",
      "mean        0.181162                0.062798  ...     16.269190   \n",
      "std         0.027414                0.007060  ...      4.833242   \n",
      "min         0.106000                0.049960  ...      7.930000   \n",
      "25%         0.161900                0.057700  ...     13.010000   \n",
      "50%         0.179200                0.061540  ...     14.970000   \n",
      "75%         0.195700                0.066120  ...     18.790000   \n",
      "max         0.304000                0.097440  ...     36.040000   \n",
      "\n",
      "       worst texture  worst perimeter   worst area  worst smoothness  \\\n",
      "count     569.000000       569.000000   569.000000        569.000000   \n",
      "mean       25.677223       107.261213   880.583128          0.132369   \n",
      "std         6.146258        33.602542   569.356993          0.022832   \n",
      "min        12.020000        50.410000   185.200000          0.071170   \n",
      "25%        21.080000        84.110000   515.300000          0.116600   \n",
      "50%        25.410000        97.660000   686.500000          0.131300   \n",
      "75%        29.720000       125.400000  1084.000000          0.146000   \n",
      "max        49.540000       251.200000  4254.000000          0.222600   \n",
      "\n",
      "       worst compactness  worst concavity  worst concave points  \\\n",
      "count         569.000000       569.000000            569.000000   \n",
      "mean            0.254265         0.272188              0.114606   \n",
      "std             0.157336         0.208624              0.065732   \n",
      "min             0.027290         0.000000              0.000000   \n",
      "25%             0.147200         0.114500              0.064930   \n",
      "50%             0.211900         0.226700              0.099930   \n",
      "75%             0.339100         0.382900              0.161400   \n",
      "max             1.058000         1.252000              0.291000   \n",
      "\n",
      "       worst symmetry  worst fractal dimension  \n",
      "count      569.000000               569.000000  \n",
      "mean         0.290076                 0.083946  \n",
      "std          0.061867                 0.018061  \n",
      "min          0.156500                 0.055040  \n",
      "25%          0.250400                 0.071460  \n",
      "50%          0.282200                 0.080040  \n",
      "75%          0.317900                 0.092080  \n",
      "max          0.663800                 0.207500  \n",
      "\n",
      "[8 rows x 30 columns]\n"
     ]
    }
   ],
   "source": [
    "from sklearn import datasets\n",
    "from sklearn.model_selection import train_test_split\n",
    "import pandas as pd\n",
    "\n",
    "data = datasets.load_breast_cancer()\n",
    "X, y = data.data, data.target\n",
    "\n",
    "df = pd.DataFrame(data=X,columns= data['feature_names'])\n",
    "\n",
    "\n",
    "print(df.describe())"
   ]
  },
  {
   "cell_type": "code",
   "execution_count": 28,
   "id": "8e698ee5",
   "metadata": {},
   "outputs": [
    {
     "name": "stdout",
     "output_type": "stream",
     "text": [
      "Accuracy: 0.9473684210526315\n"
     ]
    }
   ],
   "source": [
    "y[y == 0] = -1\n",
    "X_train, X_test, y_train, y_test = train_test_split(\n",
    "    X, y, test_size=0.2, random_state=5\n",
    ")\n",
    "clf = Adaboost(n_classifiers=10)\n",
    "clf.fit(X_train, y_train)\n",
    "y_pred = clf.predict(X_test)\n",
    "\n",
    "acc = accuracy(y_test, y_pred)\n",
    "print(\"Accuracy:\", acc)"
   ]
  },
  {
   "cell_type": "code",
   "execution_count": 10,
   "id": "42689ce5",
   "metadata": {},
   "outputs": [
    {
     "name": "stdout",
     "output_type": "stream",
     "text": [
      "[+] CLASSIFICATION REPORT FOR ADABOOST\n",
      "\n",
      "              precision    recall  f1-score   support\n",
      "\n",
      "          -1       0.98      0.90      0.93        48\n",
      "           1       0.93      0.98      0.96        66\n",
      "\n",
      "    accuracy                           0.95       114\n",
      "   macro avg       0.95      0.94      0.95       114\n",
      "weighted avg       0.95      0.95      0.95       114\n",
      "\n",
      "\n",
      "[+] CONFUSION MATRIX\n",
      "[[43  5]\n",
      " [ 1 65]]\n"
     ]
    }
   ],
   "source": [
    "from sklearn.metrics import classification_report , confusion_matrix\n",
    "\n",
    "print(\"[+] CLASSIFICATION REPORT FOR ADABOOST\\n\")\n",
    "print(classification_report(y_test,y_pred))\n",
    "\n",
    "print(\"\\n[+] CONFUSION MATRIX\")\n",
    "print(confusion_matrix(y_test , y_pred))"
   ]
  },
  {
   "cell_type": "code",
   "execution_count": 30,
   "id": "d8e87939",
   "metadata": {},
   "outputs": [
    {
     "data": {
      "text/plain": [
       "<AxesSubplot:>"
      ]
     },
     "execution_count": 30,
     "metadata": {},
     "output_type": "execute_result"
    },
    {
     "data": {
      "image/png": "[encoded data removed]",
      "text/plain": [
       "<Figure size 432x288 with 2 Axes>"
      ]
     },
     "metadata": {
      "needs_background": "light"
     },
     "output_type": "display_data"
    }
   ],
   "source": [
    "import seaborn as sns\n",
    "\n",
    "sns.heatmap(confusion_matrix(y_test , y_pred) , annot=True)"
   ]
  },
  {
   "cell_type": "code",
   "execution_count": null,
   "id": "5bb655aa",
   "metadata": {},
   "outputs": [],
   "source": []
  }
 ],
 "metadata": {
  "kernelspec": {
   "display_name": "Python 3 (ipykernel)",
   "language": "python",
   "name": "python3"
  },
  "language_info": {
   "codemirror_mode": {
    "name": "ipython",
    "version": 3
   },
   "file_extension": ".py",
   "mimetype": "text/x-python",
   "name": "python",
   "nbconvert_exporter": "python",
   "pygments_lexer": "ipython3",
   "version": "3.8.10"
  }
 },
 "nbformat": 4,
 "nbformat_minor": 5
}
