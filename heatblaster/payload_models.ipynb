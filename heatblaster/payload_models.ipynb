{
 "cells": [
  {
   "cell_type": "code",
   "execution_count": 34,
   "id": "a35f8d1f",
   "metadata": {},
   "outputs": [],
   "source": [
    "### preparing model for extracted features from the payloads\n",
    "\n",
    "import pandas as pd\n",
    "\n",
    "\n",
    "from sklearn.model_selection import train_test_split\n",
    "from sklearn.linear_model import LogisticRegression\n",
    "from sklearn.svm import SVC\n",
    "from sklearn.naive_bayes import MultinomialNB\n",
    "from sklearn.tree import DecisionTreeClassifier\n",
    "from sklearn.neighbors import KNeighborsClassifier\n",
    "from sklearn.ensemble import RandomForestClassifier\n",
    "from sklearn.metrics import accuracy_score, confusion_matrix\n",
    "from sklearn.model_selection import train_test_split\n",
    "from sklearn.linear_model import LogisticRegression\n",
    "from sklearn.svm import SVC\n",
    "from sklearn.naive_bayes import MultinomialNB\n",
    "from sklearn.tree import DecisionTreeClassifier\n",
    "from sklearn.neighbors import KNeighborsClassifier\n",
    "from sklearn.ensemble import RandomForestClassifier , VotingClassifier\n",
    "\n",
    "\n",
    "payloads_with_feature_df = pd.read_csv(\"build/combined_payloads_with_features.csv\" , index_col=0)\n",
    "payloads_df = pd.read_csv(\"build/combined_payloads.csv\" , index_col=0)\n"
   ]
  },
  {
   "cell_type": "code",
   "execution_count": 35,
   "id": "fb6ee996",
   "metadata": {},
   "outputs": [
    {
     "data": {
      "text/html": [
       "<div>\n",
       "<style scoped>\n",
       "    .dataframe tbody tr th:only-of-type {\n",
       "        vertical-align: middle;\n",
       "    }\n",
       "\n",
       "    .dataframe tbody tr th {\n",
       "        vertical-align: top;\n",
       "    }\n",
       "\n",
       "    .dataframe thead th {\n",
       "        text-align: right;\n",
       "    }\n",
       "</style>\n",
       "<table border=\"1\" class=\"dataframe\">\n",
       "  <thead>\n",
       "    <tr style=\"text-align: right;\">\n",
       "      <th></th>\n",
       "      <th>payloads</th>\n",
       "      <th>is_malicious</th>\n",
       "    </tr>\n",
       "  </thead>\n",
       "  <tbody>\n",
       "    <tr>\n",
       "      <th>0</th>\n",
       "      <td>Nokia</td>\n",
       "      <td>0</td>\n",
       "    </tr>\n",
       "    <tr>\n",
       "      <th>1</th>\n",
       "      <td>Sony</td>\n",
       "      <td>0</td>\n",
       "    </tr>\n",
       "    <tr>\n",
       "      <th>2</th>\n",
       "      <td>BMW</td>\n",
       "      <td>0</td>\n",
       "    </tr>\n",
       "    <tr>\n",
       "      <th>3</th>\n",
       "      <td>Palm</td>\n",
       "      <td>0</td>\n",
       "    </tr>\n",
       "    <tr>\n",
       "      <th>4</th>\n",
       "      <td>Adobe</td>\n",
       "      <td>0</td>\n",
       "    </tr>\n",
       "    <tr>\n",
       "      <th>...</th>\n",
       "      <td>...</td>\n",
       "      <td>...</td>\n",
       "    </tr>\n",
       "    <tr>\n",
       "      <th>41575</th>\n",
       "      <td>&lt;form&gt;&lt;button formaction=javascript&amp;colon;aler...</td>\n",
       "      <td>1</td>\n",
       "    </tr>\n",
       "    <tr>\n",
       "      <th>41576</th>\n",
       "      <td>&lt;math&gt;&lt;a xlink:href=\"//jsfiddle.net/t846h/\"&gt;click</td>\n",
       "      <td>1</td>\n",
       "    </tr>\n",
       "    <tr>\n",
       "      <th>41577</th>\n",
       "      <td>&lt;object data=data:text/html;base64,PHN2Zy9vbmx...</td>\n",
       "      <td>1</td>\n",
       "    </tr>\n",
       "    <tr>\n",
       "      <th>41578</th>\n",
       "      <td>&lt;iframe src=\"data:text/html,%3C%73%63%72%69%70...</td>\n",
       "      <td>1</td>\n",
       "    </tr>\n",
       "    <tr>\n",
       "      <th>41579</th>\n",
       "      <td>&lt;a href=\"data:text/html;blabla,&amp;#60&amp;#115&amp;#99&amp;#...</td>\n",
       "      <td>1</td>\n",
       "    </tr>\n",
       "  </tbody>\n",
       "</table>\n",
       "<p>41580 rows × 2 columns</p>\n",
       "</div>"
      ],
      "text/plain": [
       "                                                payloads  is_malicious\n",
       "0                                                  Nokia             0\n",
       "1                                                   Sony             0\n",
       "2                                                    BMW             0\n",
       "3                                                   Palm             0\n",
       "4                                                  Adobe             0\n",
       "...                                                  ...           ...\n",
       "41575  <form><button formaction=javascript&colon;aler...             1\n",
       "41576  <math><a xlink:href=\"//jsfiddle.net/t846h/\">click             1\n",
       "41577  <object data=data:text/html;base64,PHN2Zy9vbmx...             1\n",
       "41578  <iframe src=\"data:text/html,%3C%73%63%72%69%70...             1\n",
       "41579  <a href=\"data:text/html;blabla,&#60&#115&#99&#...             1\n",
       "\n",
       "[41580 rows x 2 columns]"
      ]
     },
     "execution_count": 35,
     "metadata": {},
     "output_type": "execute_result"
    }
   ],
   "source": [
    "#dropping payload column\n",
    "\n",
    "payloads_with_feature_df.drop([\"payloads\"],axis=1,inplace=True)\n",
    "\n",
    "payloads_df"
   ]
  },
  {
   "cell_type": "code",
   "execution_count": 36,
   "id": "fdb995ce",
   "metadata": {},
   "outputs": [
    {
     "data": {
      "text/plain": [
       "array([[ 98,   0,  36, ...,   0,  16,   0],\n",
       "       [ 53,   0,  22, ...,   0,   6,   0],\n",
       "       [ 52,   0,  21, ...,   0,  20,   0],\n",
       "       ...,\n",
       "       [108,   0,  19, ...,   0,  19,   0],\n",
       "       [ 32,   0,   8, ...,   0,   8,   0],\n",
       "       [ 25,   0,  16, ...,   0,   0,   0]])"
      ]
     },
     "execution_count": 36,
     "metadata": {},
     "output_type": "execute_result"
    }
   ],
   "source": [
    "x_train , x_test , y_train , y_test = train_test_split(payloads_with_feature_df.drop([\"is_malicious\"],axis=1).values \n",
    "                                                ,payloads_with_feature_df[\"is_malicious\"].values , random_state=0 )\n",
    "\n",
    "\n",
    "\n",
    "x_test"
   ]
  },
  {
   "cell_type": "code",
   "execution_count": 22,
   "id": "2775051e",
   "metadata": {},
   "outputs": [
    {
     "data": {
      "text/plain": [
       "SVC()"
      ]
     },
     "execution_count": 22,
     "metadata": {},
     "output_type": "execute_result"
    }
   ],
   "source": [
    "svc_model = SVC()\n",
    "\n",
    "svc_model.fit(x_train,y_train)"
   ]
  },
  {
   "cell_type": "code",
   "execution_count": 23,
   "id": "f8bcdca1",
   "metadata": {},
   "outputs": [
    {
     "data": {
      "text/plain": [
       "0.9975949975949976"
      ]
     },
     "execution_count": 23,
     "metadata": {},
     "output_type": "execute_result"
    }
   ],
   "source": [
    "svc_model.score(x_test,y_test)"
   ]
  },
  {
   "cell_type": "code",
   "execution_count": 37,
   "id": "ce944191",
   "metadata": {},
   "outputs": [],
   "source": [
    "# appending path for importing common process ua\n",
    "\n",
    "import sys \n",
    "sys.path.append('/home/th3h04x/Documents/github/ProjectHeatBlast')\n",
    "\n"
   ]
  },
  {
   "cell_type": "code",
   "execution_count": 47,
   "id": "8933eaac",
   "metadata": {},
   "outputs": [],
   "source": [
    "# nltk models using count vectorizer\n",
    "\n",
    "from ReverseProxy.utils.util import process_ua\n",
    "\n",
    "from sklearn.model_selection import train_test_split\n",
    "from sklearn.linear_model import LogisticRegression\n",
    "from sklearn.svm import SVC\n",
    "from sklearn.naive_bayes import MultinomialNB\n",
    "from sklearn.tree import DecisionTreeClassifier\n",
    "from sklearn.neighbors import KNeighborsClassifier\n",
    "from sklearn.ensemble import RandomForestClassifier\n",
    "from sklearn.metrics import accuracy_score, confusion_matrix\n",
    "from sklearn.model_selection import train_test_split\n",
    "from sklearn.linear_model import LogisticRegression\n",
    "from sklearn.svm import SVC\n",
    "from sklearn.naive_bayes import MultinomialNB\n",
    "from sklearn.tree import DecisionTreeClassifier\n",
    "from sklearn.neighbors import KNeighborsClassifier\n",
    "from sklearn.ensemble import RandomForestClassifier , VotingClassifier\n",
    "\n",
    "from sklearn.metrics import accuracy_score, confusion_matrix\n",
    "#save the model\n",
    "import pickle , joblib\n",
    "\n",
    "payloads_df.dropna(inplace=True)\n",
    "\n",
    "x_train , x_test , y_train , y_test = train_test_split(payloads_df[\"payloads\"].values ,payloads_df['is_malicious'].values , test_size=0.2) \n",
    "\n",
    "\n",
    "from sklearn.feature_extraction.text import CountVectorizer , TfidfVectorizer\n",
    "cv = CountVectorizer(analyzer=process_ua)\n",
    "\n",
    "\n",
    "\n"
   ]
  },
  {
   "cell_type": "code",
   "execution_count": 51,
   "id": "3148ed3b",
   "metadata": {},
   "outputs": [
    {
     "data": {
      "text/plain": [
       "Pipeline(steps=[('count-vectorizer',\n",
       "                 CountVectorizer(analyzer=<function process_ua at 0x7f2f80763160>)),\n",
       "                ('Logistic-Regression', LogisticRegression())])"
      ]
     },
     "execution_count": 51,
     "metadata": {},
     "output_type": "execute_result"
    }
   ],
   "source": [
    "\n",
    "from sklearn.pipeline import Pipeline , make_pipeline\n",
    "\n",
    "knn_cv_pipe = Pipeline([(\"count-vectorizer\" , cv) , (\"k-nearest neighbours\" ,KNeighborsClassifier(n_neighbors=100)) ])\n",
    "mnb_cv_pipe = Pipeline([(\"count-vectorizer\" ,cv ), (\"Multinomial-Naive-Bayes\" ,MultinomialNB(alpha=0.5)) ])\n",
    "svc_cv_pipe = Pipeline([(\"count-vectorizer\" , cv ), (\"Support-Vector-Classifier\" ,SVC(kernel='sigmoid', gamma=1.0)) ])\n",
    "dtc_cv_pipe = Pipeline([(\"count-vectorizer\" , cv ), (\"Decision-Tree-Classifier\" ,DecisionTreeClassifier(min_samples_split=7, random_state=252)) ])\n",
    "rf_cv_pipe = Pipeline([(\"count-vectorizer\" ,cv ), (\"RandomForest-Classifier\" ,RandomForestClassifier(n_estimators=37, random_state=252)) ])\n",
    "lg_cv_pipe = Pipeline([(\"count-vectorizer\" , cv ), (\"Logistic-Regression\" ,LogisticRegression()) ])\n",
    "\n",
    "knn_cv_pipe.fit(x_train , y_train)\n",
    "mnb_cv_pipe.fit(x_train , y_train)\n",
    "svc_cv_pipe.fit(x_train , y_train)\n",
    "dtc_cv_pipe.fit(x_train , y_train)\n",
    "rf_cv_pipe.fit(x_train,y_train)\n",
    "lg_cv_pipe.fit(x_train,y_train)"
   ]
  },
  {
   "cell_type": "code",
   "execution_count": 52,
   "id": "98fcb35c",
   "metadata": {},
   "outputs": [
    {
     "name": "stdout",
     "output_type": "stream",
     "text": [
      "[+] ACCURACY \n",
      "\n",
      "Kneighrest neighbours :  0.7663540163540163\n",
      "Multinomial Naive Bayes :  0.9344636844636844\n",
      "Support Vector Classifier :  0.9213564213564214\n",
      "Decision Tree Classifier :  0.5791245791245792\n",
      "Random Forest Classifier :  0.5751563251563252\n",
      "Logistic Regression :  0.8664021164021164\n"
     ]
    }
   ],
   "source": [
    "#store the count vectorizer models \n",
    "\n",
    "\n",
    "file_path = \"../blasterModels/payloads_models\"\n",
    "\n",
    "def dump(model , filename):\n",
    "    with open(filename, \"wb\") as f:\n",
    "        joblib.dump(model , f)\n",
    "\n",
    "\n",
    "dump(knn_cv_pipe , filename=f\"{file_path}/knn_cv_pipe.pkl\")\n",
    "dump(mnb_cv_pipe , filename=f\"{file_path}/mnb_cv_pipe.pkl\")\n",
    "dump(svc_cv_pipe , filename=f\"{file_path}/svc_cv_pipe.pkl\")\n",
    "dump(dtc_cv_pipe , filename=f\"{file_path}/dtc_cv_pipe.pkl\" )\n",
    "dump(rf_cv_pipe , filename=f\"{file_path}/rf_cv_pipe.pkl\")\n",
    "dump(lg_cv_pipe , filename=f\"{file_path}/lg_cv_pipe.pkl\")\n",
    "\n",
    "y_knn = knn_cv_pipe.predict(x_test)\n",
    "y_mnb = mnb_cv_pipe.predict(x_test)\n",
    "y_svc = svc_cv_pipe.predict(x_test)\n",
    "y_dtc = dtc_cv_pipe.predict(x_test)\n",
    "y_rfc = rf_cv_pipe.predict(x_test)\n",
    "y_lg = lg_cv_pipe.predict(x_test)\n",
    "\n",
    "print(\"[+] ACCURACY \\n\")\n",
    "print(\"Kneighrest neighbours : \" , accuracy_score(y_test , y_knn))\n",
    "print(\"Multinomial Naive Bayes : \" , accuracy_score(y_test , y_mnb))\n",
    "print(\"Support Vector Classifier : \" , accuracy_score(y_test , y_svc))\n",
    "print(\"Decision Tree Classifier : \" , accuracy_score(y_test , y_dtc))\n",
    "print(\"Random Forest Classifier : \" , accuracy_score(y_test , y_rfc))\n",
    "print(\"Logistic Regression : \" , accuracy_score(y_test , y_lg))\n",
    "\n",
    "\n"
   ]
  },
  {
   "cell_type": "code",
   "execution_count": null,
   "id": "057f44af",
   "metadata": {},
   "outputs": [],
   "source": []
  }
 ],
 "metadata": {
  "kernelspec": {
   "display_name": "Python 3 (ipykernel)",
   "language": "python",
   "name": "python3"
  },
  "language_info": {
   "codemirror_mode": {
    "name": "ipython",
    "version": 3
   },
   "file_extension": ".py",
   "mimetype": "text/x-python",
   "name": "python",
   "nbconvert_exporter": "python",
   "pygments_lexer": "ipython3",
   "version": "3.8.10"
  }
 },
 "nbformat": 4,
 "nbformat_minor": 5
}
