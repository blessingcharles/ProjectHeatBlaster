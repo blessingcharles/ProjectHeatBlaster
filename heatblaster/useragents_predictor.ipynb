{
 "cells": [
  {
   "cell_type": "code",
   "execution_count": 6,
   "id": "648810c3",
   "metadata": {},
   "outputs": [],
   "source": [
    "import pandas as pd\n",
    "import seaborn as sns\n",
    "import matplotlib.pyplot as plt\n",
    "\n",
    "# get all normal useragents data\n",
    "def get_all_normaluseragents_df(count : int = 100):\n",
    "    df_firefox = pd.read_csv(\"data_collection/firefox.csv\")\n",
    "    df_chrome = pd.read_csv(\"data_collection/chrome.csv\")\n",
    "    df_ie = pd.read_csv(\"data_collection/internet-explorer.csv\")\n",
    "    df_opera = pd.read_csv(\"data_collection/opera.csv\")\n",
    "    df_safari = pd.read_csv(\"data_collection/safari.csv\")\n",
    "    df_android = pd.read_csv(\"data_collection/android-browser.csv\")\n",
    "\n",
    "    df_firefox.drop([\"version\",\"commonality\"],axis=1,inplace=True)\n",
    "    df_chrome.drop([\"version\",\"commonality\"],axis=1,inplace=True)\n",
    "    df_ie.drop([\"version\",\"commonality\"],axis=1,inplace=True)\n",
    "    df_opera.drop([\"version\",\"commonality\"],axis=1,inplace=True)\n",
    "    df_safari.drop([\"version\",\"commonality\"],axis=1,inplace=True)\n",
    "    df_android.drop([\"version\",\"commonality\"],axis=1,inplace=True)\n",
    "\n",
    "    firefox_ua =  df_firefox.head(count)\n",
    "    chrome_ua =  df_chrome.head(count)\n",
    "    ie_ua =  df_ie.head(count)\n",
    "    safari_ua =  df_safari.head(count)\n",
    "    android_ua =  df_android.head(count)\n",
    "\n",
    "    useragents = pd.concat([firefox_ua , chrome_ua , ie_ua , safari_ua , android_ua] , axis=0)\n",
    "    shuffled_ua = useragents.sample(frac=1).reset_index(drop=True)\n",
    "    shuffled_ua['is_badua'] = 0\n",
    "    return shuffled_ua"
   ]
  },
  {
   "cell_type": "code",
   "execution_count": 7,
   "id": "395f5ebf",
   "metadata": {},
   "outputs": [],
   "source": [
    "def get_all_useragents_df():\n",
    "    normal_ua = get_all_normaluseragents_df(200)\n",
    "    bad_ua = pd.read_csv(\"bad_useragents.csv\")\n",
    "    df_useragents = pd.concat([normal_ua , bad_ua],axis=0)\n",
    "    df_useragents = df_useragents.sample(frac=1).reset_index(drop=True)\n",
    "    return df_useragents"
   ]
  },
  {
   "cell_type": "code",
   "execution_count": 8,
   "id": "c2cc15a3",
   "metadata": {},
   "outputs": [
    {
     "data": {
      "text/html": [
       "<div>\n",
       "<style scoped>\n",
       "    .dataframe tbody tr th:only-of-type {\n",
       "        vertical-align: middle;\n",
       "    }\n",
       "\n",
       "    .dataframe tbody tr th {\n",
       "        vertical-align: top;\n",
       "    }\n",
       "\n",
       "    .dataframe thead tr th {\n",
       "        text-align: left;\n",
       "    }\n",
       "\n",
       "    .dataframe thead tr:last-of-type th {\n",
       "        text-align: right;\n",
       "    }\n",
       "</style>\n",
       "<table border=\"1\" class=\"dataframe\">\n",
       "  <thead>\n",
       "    <tr>\n",
       "      <th></th>\n",
       "      <th colspan=\"4\" halign=\"left\">ua</th>\n",
       "    </tr>\n",
       "    <tr>\n",
       "      <th></th>\n",
       "      <th>count</th>\n",
       "      <th>unique</th>\n",
       "      <th>top</th>\n",
       "      <th>freq</th>\n",
       "    </tr>\n",
       "    <tr>\n",
       "      <th>is_badua</th>\n",
       "      <th></th>\n",
       "      <th></th>\n",
       "      <th></th>\n",
       "      <th></th>\n",
       "    </tr>\n",
       "  </thead>\n",
       "  <tbody>\n",
       "    <tr>\n",
       "      <th>0</th>\n",
       "      <td>1000</td>\n",
       "      <td>1000</td>\n",
       "      <td>Mozilla/4.0 (compatible; MSIE 7.0; Windows NT 6.2; WOW64; Trident/7.0; .NET4...</td>\n",
       "      <td>1</td>\n",
       "    </tr>\n",
       "    <tr>\n",
       "      <th>1</th>\n",
       "      <td>624</td>\n",
       "      <td>621</td>\n",
       "      <td>heritrix</td>\n",
       "      <td>2</td>\n",
       "    </tr>\n",
       "  </tbody>\n",
       "</table>\n",
       "</div>"
      ],
      "text/plain": [
       "            ua         \\\n",
       "         count unique   \n",
       "is_badua                \n",
       "0         1000   1000   \n",
       "1          624    621   \n",
       "\n",
       "                                                                                           \\\n",
       "                                                                                      top   \n",
       "is_badua                                                                                    \n",
       "0         Mozilla/4.0 (compatible; MSIE 7.0; Windows NT 6.2; WOW64; Trident/7.0; .NET4...   \n",
       "1                                                                                heritrix   \n",
       "\n",
       "               \n",
       "         freq  \n",
       "is_badua       \n",
       "0           1  \n",
       "1           2  "
      ]
     },
     "execution_count": 8,
     "metadata": {},
     "output_type": "execute_result"
    }
   ],
   "source": [
    "#describing user agent data frame\n",
    "\n",
    "pd.set_option('display.max_colwidth',80)\n",
    "df_useragents = get_all_useragents_df()\n",
    "df_useragents.groupby(\"is_badua\").describe()"
   ]
  },
  {
   "cell_type": "code",
   "execution_count": 9,
   "id": "b1774973",
   "metadata": {},
   "outputs": [
    {
     "data": {
      "text/plain": [
       "'wisenutbot'"
      ]
     },
     "execution_count": 9,
     "metadata": {},
     "output_type": "execute_result"
    },
    {
     "data": {
      "image/png": "[encoded data removed]",
      "text/plain": [
       "<Figure size 432x288 with 1 Axes>"
      ]
     },
     "metadata": {
      "needs_background": "light"
     },
     "output_type": "display_data"
    }
   ],
   "source": [
    "sns.countplot(x=\"is_badua\" , data=df_useragents )\n",
    "df_useragents['ua'][4]"
   ]
  },
  {
   "cell_type": "code",
   "execution_count": 10,
   "id": "6b5cdb37",
   "metadata": {},
   "outputs": [],
   "source": [
    "# appending path for importing common process ua\n",
    "\n",
    "import sys \n",
    "sys.path.append('/home/th3h04x/Documents/github/ProjectHeatBlast')\n",
    "\n"
   ]
  },
  {
   "cell_type": "code",
   "execution_count": 11,
   "id": "0c91c6df",
   "metadata": {},
   "outputs": [],
   "source": [
    "from ReverseProxy.utils.util import process_ua\n"
   ]
  },
  {
   "cell_type": "code",
   "execution_count": 12,
   "id": "30874d88",
   "metadata": {},
   "outputs": [],
   "source": [
    "from sklearn.model_selection import train_test_split\n",
    "from sklearn.linear_model import LogisticRegression\n",
    "from sklearn.svm import SVC\n",
    "from sklearn.naive_bayes import MultinomialNB\n",
    "from sklearn.tree import DecisionTreeClassifier\n",
    "from sklearn.neighbors import KNeighborsClassifier\n",
    "from sklearn.ensemble import RandomForestClassifier\n",
    "from sklearn.metrics import accuracy_score, confusion_matrix\n",
    "from sklearn.model_selection import train_test_split\n",
    "from sklearn.linear_model import LogisticRegression\n",
    "from sklearn.svm import SVC\n",
    "from sklearn.naive_bayes import MultinomialNB\n",
    "from sklearn.tree import DecisionTreeClassifier\n",
    "from sklearn.neighbors import KNeighborsClassifier\n",
    "from sklearn.ensemble import RandomForestClassifier\n",
    "from sklearn.metrics import accuracy_score, confusion_matrix\n",
    "#save the model\n",
    "import pickle , joblib\n",
    "\n",
    "def dump(model , filename):\n",
    "    with open(filename, \"wb\") as f:\n",
    "        joblib.dump(model , f)\n",
    "\n",
    "\n",
    "x_train , x_test , y_train , y_test = train_test_split(df_useragents[\"ua\"] ,df_useragents['is_badua'] , test_size=0.2) \n",
    "\n",
    "\n",
    "from sklearn.feature_extraction.text import CountVectorizer , TfidfVectorizer\n",
    "cv = CountVectorizer(analyzer=process_ua)\n",
    "cv.fit(x_train,y_train)\n",
    "file_path = \"../blasterModels/user_agents_models\"\n",
    "\n",
    "dump(cv , f\"{file_path}/cv.pkl\")\n",
    "\n",
    "tfid = TfidfVectorizer(analyzer=process_ua)\n",
    "\n",
    "cv = CountVectorizer(analyzer=process_ua)\n",
    "X = cv.fit_transform(df_useragents[\"ua\"])\n",
    "\n",
    "\n"
   ]
  },
  {
   "cell_type": "code",
   "execution_count": 13,
   "id": "6049e26d",
   "metadata": {},
   "outputs": [
    {
     "name": "stdout",
     "output_type": "stream",
     "text": [
      "[+] ACCURACY \n",
      "\n",
      "Kneighrest neighbours :  0.9476923076923077\n",
      "Multinomial Naive Bayes :  0.6430769230769231\n",
      "Support Vector Classifier :  1.0\n",
      "Decision Tree Classifier :  1.0\n",
      "Random Forest Classifier :  1.0\n",
      "Logistic Regression :  1.0\n"
     ]
    }
   ],
   "source": [
    "# knc = KNeighborsClassifier(n_neighbors=100)\n",
    "\n",
    "from sklearn.pipeline import Pipeline , make_pipeline\n",
    "\n",
    "knn_cv_pipe = Pipeline([(\"count-vectorizer\" , cv) , (\"k-nearest neighbours\" ,KNeighborsClassifier(n_neighbors=100)) ])\n",
    "mnb_cv_pipe = Pipeline([(\"count-vectorizer\" ,cv ), (\"Multinomial-Naive-Bayes\" ,MultinomialNB(alpha=0.5)) ])\n",
    "svc_cv_pipe = Pipeline([(\"count-vectorizer\" , cv ), (\"Support-Vector-Classifier\" ,SVC(kernel='sigmoid', gamma=1.0)) ])\n",
    "dtc_cv_pipe = Pipeline([(\"count-vectorizer\" , cv ), (\"Decision-Tree-Classifier\" ,DecisionTreeClassifier(min_samples_split=7, random_state=252)) ])\n",
    "rf_cv_pipe = Pipeline([(\"count-vectorizer\" ,cv ), (\"RandomForest-Classifier\" ,RandomForestClassifier(n_estimators=37, random_state=252)) ])\n",
    "lg_cv_pipe = Pipeline([(\"count-vectorizer\" , cv ), (\"Logistic-Regression\" ,LogisticRegression()) ])\n",
    "\n",
    "knn_cv_pipe.fit(x_train , y_train)\n",
    "mnb_cv_pipe.fit(x_train , y_train)\n",
    "svc_cv_pipe.fit(x_train , y_train)\n",
    "dtc_cv_pipe.fit(x_train , y_train)\n",
    "rf_cv_pipe.fit(x_train,y_train)\n",
    "lg_cv_pipe.fit(x_train,y_train)\n",
    "\n",
    "\n",
    "file_path = \"../blasterModels/user_agents_models\"\n",
    "\n",
    "dump(knn_cv_pipe , filename=f\"{file_path}/knn_cv_pipe.pkl\")\n",
    "dump(mnb_cv_pipe , filename=f\"{file_path}/mnb_cv_pipe.pkl\")\n",
    "dump(svc_cv_pipe , filename=f\"{file_path}/svc_cv_pipe.pkl\")\n",
    "dump(dtc_cv_pipe , filename=f\"{file_path}/dtc_cv_pipe.pkl\" )\n",
    "dump(rf_cv_pipe , filename=f\"{file_path}/rf_cv_pipe.pkl\")\n",
    "dump(lg_cv_pipe , filename=f\"{file_path}/lg_cv_pipe.pkl\")\n",
    "\n",
    "y_knn = knn_cv_pipe.predict(x_test)\n",
    "y_mnb = mnb_cv_pipe.predict(x_test)\n",
    "y_svc = svc_cv_pipe.predict(x_test)\n",
    "y_dtc = dtc_cv_pipe.predict(x_test)\n",
    "y_rfc = rf_cv_pipe.predict(x_test)\n",
    "y_lg = lg_cv_pipe.predict(x_test)\n",
    "\n",
    "print(\"[+] ACCURACY \\n\")\n",
    "print(\"Kneighrest neighbours : \" , accuracy_score(y_test , y_knn))\n",
    "print(\"Multinomial Naive Bayes : \" , accuracy_score(y_test , y_mnb))\n",
    "print(\"Support Vector Classifier : \" , accuracy_score(y_test , y_svc))\n",
    "print(\"Decision Tree Classifier : \" , accuracy_score(y_test , y_dtc))\n",
    "print(\"Random Forest Classifier : \" , accuracy_score(y_test , y_rfc))\n",
    "print(\"Logistic Regression : \" , accuracy_score(y_test , y_lg))\n",
    "\n"
   ]
  },
  {
   "cell_type": "code",
   "execution_count": 14,
   "id": "63bff5f7",
   "metadata": {},
   "outputs": [
    {
     "name": "stdout",
     "output_type": "stream",
     "text": [
      "[0 0 0 1 0 1 0 0 0 1 0 1 0 1 0 1 1 1 0 1 1 1 0 1 1 1 1 1 0 0 1 1 0 1 0 0 1\n",
      " 0 1 0 1 1 1 1 0 0 0 0 1 0 0 1 0 0 0 1 0 1 1 1 0 0 0 1 0 1 1 0 0 1 0 0 0 0\n",
      " 1 0 0 0 0 0 0 0 1 0 0 0 0 1 0 0 0 0 1 0 1 1 1 0 0 0 1 0 1 1 1 0 0 0 1 0 0\n",
      " 1 1 1 1 0 1 0 0 1 1 0 0 1 1 1 1 1 1 0 0 0 1 0 1 1 0 0 0 0 1 0 0 1 0 1 1 1\n",
      " 1 0 0 1 1 0 0 0 0 1 0 1 0 0 1 1 1 1 1 0 1 0 1 1 1 1 0 0 0 0 1 0 1 1 0 1 1\n",
      " 0 0 0 1 0 0 1 0 0 0 0 0 1 1 1 1 0 1 1 0 0 1 0 1 1 0 0 1 1 0 0 1 0 0 0 0 0\n",
      " 0 0 0 0 0 0 0 0 0 0 1 0 0 0 0 0 0 1 0 1 1 1 0 0 0 1 0 1 0 1 0 0 0 1 0 1 1\n",
      " 0 1 1 1 0 0 0 1 0 1 1 0 0 0 0 1 0 0 1 1 1 0 0 0 1 0 1 1 1 0 0 1 1 1 1 0 1\n",
      " 0 0 0 0 1 0 0 0 0 0 1 1 0 0 1 0 0 0 1 1 0 0 1 1 0 1 0 1 0]\n"
     ]
    }
   ],
   "source": [
    "import pickle\n",
    "\n",
    "file_path = \"../blasterModels/user_agents_models/lg_cv_pipe.pkl\"\n",
    "with open(file_path , \"wb\") as f:\n",
    "    pickle.dump(knn_cv_pipe , f)\n",
    "\n",
    "\n",
    "with open(file_path , \"rb\") as f:\n",
    "    m = pickle.load(f)\n",
    "    print(m.predict(x_test))"
   ]
  },
  {
   "cell_type": "code",
   "execution_count": null,
   "id": "6e75b259",
   "metadata": {},
   "outputs": [],
   "source": []
  }
 ],
 "metadata": {
  "kernelspec": {
   "display_name": "Python 3 (ipykernel)",
   "language": "python",
   "name": "python3"
  },
  "language_info": {
   "codemirror_mode": {
    "name": "ipython",
    "version": 3
   },
   "file_extension": ".py",
   "mimetype": "text/x-python",
   "name": "python",
   "nbconvert_exporter": "python",
   "pygments_lexer": "ipython3",
   "version": "3.8.10"
  }
 },
 "nbformat": 4,
 "nbformat_minor": 5
}
