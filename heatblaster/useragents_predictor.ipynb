{
 "cells": [
  {
   "cell_type": "code",
   "execution_count": 1,
   "id": "648810c3",
   "metadata": {},
   "outputs": [],
   "source": [
    "import pandas as pd\n",
    "import seaborn as sns\n",
    "import matplotlib.pyplot as plt\n",
    "\n",
    "# get all normal useragents data\n",
    "def get_all_normaluseragents_df(count : int = 100):\n",
    "    df_firefox = pd.read_csv(\"data_collection/firefox.csv\")\n",
    "    df_chrome = pd.read_csv(\"data_collection/chrome.csv\")\n",
    "    df_ie = pd.read_csv(\"data_collection/internet-explorer.csv\")\n",
    "    df_opera = pd.read_csv(\"data_collection/opera.csv\")\n",
    "    df_safari = pd.read_csv(\"data_collection/safari.csv\")\n",
    "    df_android = pd.read_csv(\"data_collection/android-browser.csv\")\n",
    "\n",
    "    df_firefox.drop([\"version\",\"commonality\"],axis=1,inplace=True)\n",
    "    df_chrome.drop([\"version\",\"commonality\"],axis=1,inplace=True)\n",
    "    df_ie.drop([\"version\",\"commonality\"],axis=1,inplace=True)\n",
    "    df_opera.drop([\"version\",\"commonality\"],axis=1,inplace=True)\n",
    "    df_safari.drop([\"version\",\"commonality\"],axis=1,inplace=True)\n",
    "    df_android.drop([\"version\",\"commonality\"],axis=1,inplace=True)\n",
    "\n",
    "    firefox_ua =  df_firefox.head(count)\n",
    "    chrome_ua =  df_chrome.head(count)\n",
    "    ie_ua =  df_ie.head(count)\n",
    "    safari_ua =  df_safari.head(count)\n",
    "    android_ua =  df_android.head(count)\n",
    "\n",
    "    useragents = pd.concat([firefox_ua , chrome_ua , ie_ua , safari_ua , android_ua] , axis=0)\n",
    "    shuffled_ua = useragents.sample(frac=1).reset_index(drop=True)\n",
    "    shuffled_ua['is_badua'] = 0\n",
    "    return shuffled_ua"
   ]
  },
  {
   "cell_type": "code",
   "execution_count": 2,
   "id": "395f5ebf",
   "metadata": {},
   "outputs": [],
   "source": [
    "def get_all_useragents_df():\n",
    "    normal_ua = get_all_normaluseragents_df(200)\n",
    "    bad_ua = pd.read_csv(\"bad_useragents.csv\")\n",
    "    df_useragents = pd.concat([normal_ua , bad_ua],axis=0)\n",
    "    df_useragents = df_useragents.sample(frac=1).reset_index(drop=True)\n",
    "    return df_useragents"
   ]
  },
  {
   "cell_type": "code",
   "execution_count": 3,
   "id": "c2cc15a3",
   "metadata": {},
   "outputs": [
    {
     "data": {
      "text/html": [
       "<div>\n",
       "<style scoped>\n",
       "    .dataframe tbody tr th:only-of-type {\n",
       "        vertical-align: middle;\n",
       "    }\n",
       "\n",
       "    .dataframe tbody tr th {\n",
       "        vertical-align: top;\n",
       "    }\n",
       "\n",
       "    .dataframe thead tr th {\n",
       "        text-align: left;\n",
       "    }\n",
       "\n",
       "    .dataframe thead tr:last-of-type th {\n",
       "        text-align: right;\n",
       "    }\n",
       "</style>\n",
       "<table border=\"1\" class=\"dataframe\">\n",
       "  <thead>\n",
       "    <tr>\n",
       "      <th></th>\n",
       "      <th colspan=\"4\" halign=\"left\">ua</th>\n",
       "    </tr>\n",
       "    <tr>\n",
       "      <th></th>\n",
       "      <th>count</th>\n",
       "      <th>unique</th>\n",
       "      <th>top</th>\n",
       "      <th>freq</th>\n",
       "    </tr>\n",
       "    <tr>\n",
       "      <th>is_badua</th>\n",
       "      <th></th>\n",
       "      <th></th>\n",
       "      <th></th>\n",
       "      <th></th>\n",
       "    </tr>\n",
       "  </thead>\n",
       "  <tbody>\n",
       "    <tr>\n",
       "      <th>0</th>\n",
       "      <td>1000</td>\n",
       "      <td>1000</td>\n",
       "      <td>Mozilla/5.0 (Linux; U; Android 2.3.6; en-us; SGH-T679 Build/GINGERBREAD) App...</td>\n",
       "      <td>1</td>\n",
       "    </tr>\n",
       "    <tr>\n",
       "      <th>1</th>\n",
       "      <td>624</td>\n",
       "      <td>621</td>\n",
       "      <td>heritrix</td>\n",
       "      <td>2</td>\n",
       "    </tr>\n",
       "  </tbody>\n",
       "</table>\n",
       "</div>"
      ],
      "text/plain": [
       "            ua         \\\n",
       "         count unique   \n",
       "is_badua                \n",
       "0         1000   1000   \n",
       "1          624    621   \n",
       "\n",
       "                                                                                           \\\n",
       "                                                                                      top   \n",
       "is_badua                                                                                    \n",
       "0         Mozilla/5.0 (Linux; U; Android 2.3.6; en-us; SGH-T679 Build/GINGERBREAD) App...   \n",
       "1                                                                                heritrix   \n",
       "\n",
       "               \n",
       "         freq  \n",
       "is_badua       \n",
       "0           1  \n",
       "1           2  "
      ]
     },
     "execution_count": 3,
     "metadata": {},
     "output_type": "execute_result"
    }
   ],
   "source": [
    "#describing user agent data frame\n",
    "\n",
    "pd.set_option('display.max_colwidth',80)\n",
    "df_useragents = get_all_useragents_df()\n",
    "df_useragents.groupby(\"is_badua\").describe()"
   ]
  },
  {
   "cell_type": "code",
   "execution_count": 4,
   "id": "b1774973",
   "metadata": {},
   "outputs": [
    {
     "data": {
      "text/plain": [
       "'wasalive-bot'"
      ]
     },
     "execution_count": 4,
     "metadata": {},
     "output_type": "execute_result"
    },
    {
     "data": {
      "image/png": "[encoded data removed]",
      "text/plain": [
       "<Figure size 432x288 with 1 Axes>"
      ]
     },
     "metadata": {
      "needs_background": "light"
     },
     "output_type": "display_data"
    }
   ],
   "source": [
    "sns.countplot(x=\"is_badua\" , data=df_useragents )\n",
    "df_useragents['ua'][4]"
   ]
  },
  {
   "cell_type": "code",
   "execution_count": 5,
   "id": "6b5cdb37",
   "metadata": {},
   "outputs": [],
   "source": [
    "import string\n",
    "ua_punctuation = string.punctuation.replace(\".\",\"\")\n",
    "\n",
    "def process_ua(ua : str):\n",
    "    temp = [c for c in ua if c not in ua_punctuation ]\n",
    "    punc_removed_ua = \"\".join(temp).lower()\n",
    "    punc_removed_ua.split()\n",
    "\n",
    "    #removing stop words\n",
    "    from nltk.corpus import stopwords\n",
    "    from nltk.stem import PorterStemmer\n",
    "\n",
    "    pt = PorterStemmer()\n",
    "    stopwords_removed_ua = [word for word in punc_removed_ua.split() if word not in stopwords.words('english')]  \n",
    "    stemmed_ua = [pt.stem(word) for word in stopwords_removed_ua]\n",
    "    return stemmed_ua\n"
   ]
  },
  {
   "cell_type": "code",
   "execution_count": 6,
   "id": "30874d88",
   "metadata": {},
   "outputs": [],
   "source": [
    "from sklearn.feature_extraction.text import CountVectorizer , TfidfVectorizer\n",
    "\n",
    "\n",
    "cv = CountVectorizer(analyzer=process_ua)\n",
    "dfm = cv.fit_transform(df_useragents['ua'])\n",
    "\n",
    "tfid = TfidfVectorizer(analyzer=process_ua)\n",
    "tfid_matrix = tfid.fit_transform(df_useragents['ua'])\n",
    "\n",
    "\n",
    "# a = pd.DataFrame(tfid_matrix.toarray(),columns=tfid.get_feature_names_out())\n",
    "# df_useragents['is_badua'][89]"
   ]
  },
  {
   "cell_type": "code",
   "execution_count": 7,
   "id": "bed39f11",
   "metadata": {},
   "outputs": [],
   "source": [
    "from sklearn.model_selection import train_test_split\n",
    "from sklearn.linear_model import LogisticRegression\n",
    "from sklearn.svm import SVC\n",
    "from sklearn.naive_bayes import MultinomialNB\n",
    "from sklearn.tree import DecisionTreeClassifier\n",
    "from sklearn.neighbors import KNeighborsClassifier\n",
    "from sklearn.ensemble import RandomForestClassifier\n",
    "from sklearn.metrics import accuracy_score, confusion_matrix\n",
    "\n",
    "x_train , x_test , y_train , y_test = train_test_split(dfm ,df_useragents['is_badua'] , test_size=0.4 )"
   ]
  },
  {
   "cell_type": "code",
   "execution_count": 21,
   "id": "6049e26d",
   "metadata": {},
   "outputs": [
    {
     "name": "stdout",
     "output_type": "stream",
     "text": [
      "KNeighbors Accuracy_score:  0.9446153846153846\n",
      "KNeighbors confusion_matrix:  [[360  36]\n",
      " [  0 254]]\n"
     ]
    },
    {
     "data": {
      "text/plain": [
       "array([0])"
      ]
     },
     "execution_count": 21,
     "metadata": {},
     "output_type": "execute_result"
    }
   ],
   "source": [
    "knc = KNeighborsClassifier(n_neighbors=100)\n",
    "knc.fit(x_train,y_train)\n",
    "\n",
    "y_pred = knc.predict(x_test)\n",
    "print('KNeighbors Accuracy_score: ',accuracy_score(y_test,y_pred))\n",
    "print('KNeighbors confusion_matrix: ', confusion_matrix(y_test, y_pred)) \n",
    "\n",
    "x_test\n",
    "\n",
    "#save the model\n",
    "from joblib import dump\n",
    "dump(knc , filename=\"../blasterModels/user_agents_models/knc.joblib\")\n",
    "\n",
    "dfm_test = cv.transform([\"Mozilla/5.0 (Linux; U; Android 2.3.6; en-us; SGH-T679 Build/GINGERBREAD) AppleWebKit/533.1 (KHTML, like Gecko) Version/4.0 Mobile Safari/533.1\"])\n",
    "knc.predict(dfm_test)\n",
    "# df_useragents['ua'][3]"
   ]
  },
  {
   "cell_type": "code",
   "execution_count": null,
   "id": "ceedd949",
   "metadata": {},
   "outputs": [],
   "source": [
    "mnb = MultinomialNB(alpha = 0.5)\n",
    "mnb.fit(x_train,y_train)\n",
    "\n",
    "y_mnb = mnb.predict(x_test)\n",
    "\n",
    "print('Naive Bayes Accuracy: ', accuracy_score( y_test , y_mnb))\n",
    "print('Naive Bayes confusion_matrix: ', confusion_matrix(y_test, y_mnb))"
   ]
  },
  {
   "cell_type": "code",
   "execution_count": null,
   "id": "f7407156",
   "metadata": {},
   "outputs": [],
   "source": [
    "svc = SVC(kernel='sigmoid', gamma=1.0)\n",
    "svc.fit(x_train,y_train)\n",
    "y_svc = svc.predict(x_test)\n",
    "print('SVM Accuracy: ', accuracy_score( y_test , y_svc))\n",
    "print('SVM confusion_matrix: ', confusion_matrix(y_test, y_svc))"
   ]
  },
  {
   "cell_type": "code",
   "execution_count": null,
   "id": "86f3a8cd",
   "metadata": {},
   "outputs": [],
   "source": [
    "dtc = DecisionTreeClassifier(min_samples_split=7, random_state=252)\n",
    "dtc.fit(x_train,y_train)\n",
    "y_dtc = dtc.predict(x_test)\n",
    "print('Decision Tree Accuracy: ',accuracy_score(y_test,y_dtc))\n",
    "print('Decision Tree confusion_matrix: ', confusion_matrix(y_dtc, y_test))  "
   ]
  },
  {
   "cell_type": "code",
   "execution_count": null,
   "id": "3411e730",
   "metadata": {},
   "outputs": [],
   "source": [
    "rfc = RandomForestClassifier(n_estimators=37, random_state=252)\n",
    "rfc.fit(x_train,y_train)\n",
    "y_rfc = rfc.predict(x_test)\n",
    "\n",
    "print('Random Forest Accuracy_score: ',accuracy_score(y_test,y_rfc))\n",
    "print('Random Forest confusion_matrix: ', confusion_matrix(y_rfc, y_test)) "
   ]
  },
  {
   "cell_type": "code",
   "execution_count": null,
   "id": "bd4ca560",
   "metadata": {},
   "outputs": [],
   "source": [
    "lr = LogisticRegression()\n",
    "lr.fit(x_train,y_train)\n",
    "y_lr = lr.predict(x_test)\n",
    "\n",
    "print('Logistic Regression Accuracy_score: ',accuracy_score(y_test,y_lr))\n",
    "print('Logistic Regression confusion_matrix: ', confusion_matrix(y_test, y_lr)) "
   ]
  },
  {
   "cell_type": "code",
   "execution_count": null,
   "id": "d8e1756b",
   "metadata": {},
   "outputs": [],
   "source": []
  }
 ],
 "metadata": {
  "kernelspec": {
   "display_name": "Python 3 (ipykernel)",
   "language": "python",
   "name": "python3"
  },
  "language_info": {
   "codemirror_mode": {
    "name": "ipython",
    "version": 3
   },
   "file_extension": ".py",
   "mimetype": "text/x-python",
   "name": "python",
   "nbconvert_exporter": "python",
   "pygments_lexer": "ipython3",
   "version": "3.8.10"
  }
 },
 "nbformat": 4,
 "nbformat_minor": 5
}
